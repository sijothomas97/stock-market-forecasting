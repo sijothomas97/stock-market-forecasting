{
  "nbformat": 4,
  "nbformat_minor": 0,
  "metadata": {
    "colab": {
      "provenance": []
    },
    "kernelspec": {
      "name": "python3",
      "display_name": "Python 3"
    },
    "language_info": {
      "name": "python"
    }
  },
  "cells": [
    {
      "cell_type": "code",
      "execution_count": null,
      "metadata": {
        "id": "cW2LvuorV9ib"
      },
      "outputs": [],
      "source": []
    },
    {
      "cell_type": "code",
      "source": [
        "# Import statements\n",
        "import pandas as pd\n",
        "import matplotlib.pyplot as plt\n",
        "import plotly.graph_objects as go\n",
        "\n",
        "from statsmodels.tsa.seasonal import seasonal_decompose"
      ],
      "metadata": {
        "id": "11zyBoQZCC7N"
      },
      "execution_count": null,
      "outputs": []
    },
    {
      "cell_type": "markdown",
      "source": [
        "# Data Collection"
      ],
      "metadata": {
        "id": "_TBMpUbfjjGD"
      }
    },
    {
      "cell_type": "code",
      "source": [
        "# Reading data of all selected stocks\n",
        "\n",
        "# 5 min data of HDFC Bank from the 2015 to 2022\n",
        "hdfc_five_min_df = pd.read_csv('/content/drive/MyDrive/MMU/_Final Project/chosen_stocks/HDFCBANK_with_indicators_.csv')#[chosen_columns]\n",
        "# 5 min data of Reliance Industries from the 2015 to 2022\n",
        "reliance_five_min_df = pd.read_csv('/content/drive/MyDrive/MMU/_Final Project/chosen_stocks/RELIANCE_with_indicators_.csv')#[chosen_columns]#[['date', 'close']]\n",
        "# 5 min data of Sun Pharmaceutical Industries from the 2015 to 2022\n",
        "sunpharma_five_min_df = pd.read_csv('/content/drive/MyDrive/MMU/_Final Project/chosen_stocks/SUNPHARMA_with_indicators_.csv')#[chosen_columns]#[['date', 'close']]\n",
        "\n",
        "print(f\"HDFC Bank: {hdfc_five_min_df.shape}\\nReliance Industries: {reliance_five_min_df.shape}\\nSun Pharmaceutical Industries:\\\n",
        " {sunpharma_five_min_df.shape}\")"
      ],
      "metadata": {
        "colab": {
          "base_uri": "https://localhost:8080/"
        },
        "id": "7Kvs5_uhFyr3",
        "outputId": "c43cef0d-eca6-45ce-e80b-91d16cc0ff27"
      },
      "execution_count": null,
      "outputs": [
        {
          "output_type": "stream",
          "name": "stdout",
          "text": [
            "HDFC Bank: (130348, 59)\n",
            "Reliance Industries: (130348, 59)\n",
            "Sun Pharmaceutical Industries: (130347, 59)\n"
          ]
        }
      ]
    }
  ]
}
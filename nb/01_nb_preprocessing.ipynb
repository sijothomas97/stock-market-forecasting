{
  "nbformat": 4,
  "nbformat_minor": 0,
  "metadata": {
    "colab": {
      "provenance": []
    },
    "kernelspec": {
      "name": "python3",
      "display_name": "Python 3"
    },
    "language_info": {
      "name": "python"
    }
  },
  "cells": [
    {
      "cell_type": "code",
      "execution_count": null,
      "metadata": {
        "id": "cW2LvuorV9ib"
      },
      "outputs": [],
      "source": []
    },
    {
      "cell_type": "markdown",
      "source": [
        "## Feature Selection"
      ],
      "metadata": {
        "id": "UUykhEc6ktR_"
      }
    },
    {
      "cell_type": "code",
      "source": [
        "# Delete unwanted features from the dataset\n",
        "drop_cols = ['TRIMA5', 'MOM20', 'HT_TRENDLINE', 'KAMA20', 'fastdsr', 'fastd', 'CCI5', 'SAR', 'ROC5', 'TRIMA20', 'MOM10', 'HT_DCPERIOD', 'Trange', 'PPO', 'ADX20', 'fastksr', 'KAMA30', 'ADX5', 'CCI10', 'slowd', 'TYPPRICE', 'CCI15', 'fastk', 'ULTOSC', 'ADX10', 'APO', 'slowk', 'BETA', 'WILLR', 'ATR', 'MOM15', 'TRIMA10', 'KAMA10', 'ROC10', 'ROC20']\n",
        "hdfc_five_min_df = hdfc_five_min_df.drop(columns = drop_cols)\n",
        "reliance_five_min_df = reliance_five_min_df.drop(columns = drop_cols)\n",
        "sunpharma_five_min_df = sunpharma_five_min_df.drop(columns = drop_cols)\n",
        "\n",
        "print(hdfc_five_min_df.columns)"
      ],
      "metadata": {
        "colab": {
          "base_uri": "https://localhost:8080/"
        },
        "id": "tSLJoYzXoKm8",
        "outputId": "e5c309da-dfb7-46c5-cbab-ad6eaf96fda7"
      },
      "execution_count": null,
      "outputs": [
        {
          "output_type": "stream",
          "name": "stdout",
          "text": [
            "Index(['date', 'open', 'high', 'low', 'close', 'volume', 'sma5', 'sma10',\n",
            "       'sma15', 'sma20', 'ema5', 'ema10', 'ema15', 'ema20', 'upperband',\n",
            "       'middleband', 'lowerband', 'macd510', 'macd520', 'macd1020', 'macd1520',\n",
            "       'macd1226', 'RSI14', 'RSI8'],\n",
            "      dtype='object')\n"
          ]
        }
      ]
    },
    {
      "cell_type": "markdown",
      "source": [
        "## Deleting Timezone from Date"
      ],
      "metadata": {
        "id": "cSJyhYaplX-4"
      }
    },
    {
      "cell_type": "code",
      "source": [
        "# Deleting the the time zone part from the date column\n",
        "# HDFC Bank\n",
        "hdfc_five_min_df['date'] = pd.to_datetime(hdfc_five_min_df['date'], format='%Y-%m-%d')\n",
        "# dt.tz_convert method is a part of the datetime module and is used to convert the time zone of a datetime object to a different time zone.\n",
        "hdfc_five_min_df['date'] = hdfc_five_min_df['date'].dt.tz_convert(None)\n",
        "hdfc_five_min_df['date'] = hdfc_five_min_df.set_index('date', inplace=True)\n",
        "\n",
        "# Reliance Industries\n",
        "reliance_five_min_df['date'] = pd.to_datetime(reliance_five_min_df['date'], format='%Y-%m-%d')\n",
        "# dt.tz_convert method is a part of the datetime module and is used to convert the time zone of a datetime object to a different time zone.\n",
        "reliance_five_min_df['date'] = reliance_five_min_df['date'].dt.tz_convert(None)\n",
        "reliance_five_min_df['date'] = reliance_five_min_df.set_index('date', inplace=True)\n",
        "\n",
        "# Sun Pharmaceutical Industries\n",
        "sunpharma_five_min_df['date'] = pd.to_datetime(sunpharma_five_min_df['date'], format='%Y-%m-%d')\n",
        "# dt.tz_convert method is a part of the datetime module and is used to convert the time zone of a datetime object to a different time zone.\n",
        "sunpharma_five_min_df['date'] = sunpharma_five_min_df['date'].dt.tz_convert(None)\n",
        "sunpharma_five_min_df['date'] = sunpharma_five_min_df.set_index('date', inplace=True)\n",
        "\n",
        "# data.set_index('date', inplace=True)\n",
        "print(hdfc_five_min_df.head(1).index, reliance_five_min_df.head(1).index, sunpharma_five_min_df.head(1).index)"
      ],
      "metadata": {
        "id": "MtqqUrM-nub5",
        "colab": {
          "base_uri": "https://localhost:8080/"
        },
        "outputId": "84046e74-66c2-46ec-d628-0eaea385bcbc"
      },
      "execution_count": null,
      "outputs": [
        {
          "output_type": "stream",
          "name": "stdout",
          "text": [
            "DatetimeIndex(['2015-02-02 09:00:00'], dtype='datetime64[ns]', name='date', freq=None) DatetimeIndex(['2015-02-02 09:00:00'], dtype='datetime64[ns]', name='date', freq=None) DatetimeIndex(['2015-02-02 09:00:00'], dtype='datetime64[ns]', name='date', freq=None)\n"
          ]
        }
      ]
    },
    {
      "cell_type": "markdown",
      "source": [
        "# Data Manipulation"
      ],
      "metadata": {
        "id": "qEXb16Iul0P0"
      }
    },
    {
      "cell_type": "code",
      "source": [
        "# Resampling data from 5 min intreval to 1 day interval\n",
        "\n",
        "# Specify the columns you want to resample\n",
        "columns_to_resample = ['open', 'high', 'low', 'close', 'volume', 'sma5', 'sma10',\n",
        "                       'sma15', 'sma20', 'ema5', 'ema10', 'ema15', 'ema20',\n",
        "                       'upperband', 'middleband', 'lowerband', 'macd510', 'macd520',\n",
        "                       'macd1020', 'macd1520', 'macd1226', 'RSI14', 'RSI8']\n",
        "columns_to_agg = {\n",
        "    'open': 'first', 'high': 'max', 'low': 'min', 'close': 'last', 'volume': 'sum', 'sma5': 'last', 'sma10': 'last', 'sma15': 'last', 'sma20': 'last',\n",
        "    'ema5': 'last', 'ema10': 'last', 'ema15': 'last', 'ema20': 'last', 'upperband': 'last', 'middleband': 'last','lowerband': 'last','macd510': 'last',\n",
        "    'macd520': 'last', 'macd1020': 'last', 'macd1520': 'last', 'macd1226': 'last', 'RSI14': 'last', 'RSI8': 'last'\n",
        "}\n",
        "\n",
        "# Resample the DataFrame to 1-day intervals (OHLCV data)\n",
        "monthly_hdfc_data = hdfc_five_min_df[columns_to_resample].resample('M').agg(columns_to_agg)\n",
        "\n",
        "# Resample the DataFrame to 1-day intervals (OHLCV data)\n",
        "monthly_reliance_data = reliance_five_min_df[columns_to_resample].resample('M').agg(columns_to_agg)\n",
        "\n",
        "# Resample the DataFrame to 1-day intervals (OHLCV data)\n",
        "monthly_sunpharma_data = sunpharma_five_min_df[columns_to_resample].resample('M').agg(columns_to_agg)\n",
        "\n",
        "\n",
        "print(monthly_hdfc_data.shape, monthly_reliance_data.shape, monthly_sunpharma_data.shape)"
      ],
      "metadata": {
        "colab": {
          "base_uri": "https://localhost:8080/"
        },
        "id": "SfN5L5Rro6F-",
        "outputId": "12e43ed7-22aa-4247-8e2c-00d5a6a5971d"
      },
      "execution_count": null,
      "outputs": [
        {
          "output_type": "stream",
          "name": "stdout",
          "text": [
            "(85, 23) (85, 23) (85, 23)\n"
          ]
        }
      ]
    },
    {
      "cell_type": "markdown",
      "source": [
        "## Add new features year and month"
      ],
      "metadata": {
        "id": "7qujKC4SYLUy"
      }
    },
    {
      "cell_type": "code",
      "source": [
        "# Extracting year and month from column date and adding them as new features to the stock market dataframe.\n",
        "monthly_hdfc_data['year'] = monthly_hdfc_data.index.year\n",
        "monthly_hdfc_data['month'] = monthly_hdfc_data.index.month\n",
        "\n",
        "monthly_reliance_data['year'] = monthly_reliance_data.index.year\n",
        "monthly_reliance_data['month'] = monthly_reliance_data.index.month\n",
        "\n",
        "monthly_sunpharma_data['year'] = monthly_sunpharma_data.index.year\n",
        "monthly_sunpharma_data['month'] = monthly_sunpharma_data.index.month\n",
        "\n",
        "print(monthly_hdfc_data.shape, monthly_reliance_data.shape, monthly_sunpharma_data.shape)"
      ],
      "metadata": {
        "colab": {
          "base_uri": "https://localhost:8080/"
        },
        "id": "HMGaYau3o6JK",
        "outputId": "7d701f5e-5b4d-4286-a9de-6d0702e93943"
      },
      "execution_count": null,
      "outputs": [
        {
          "output_type": "stream",
          "name": "stdout",
          "text": [
            "(85, 25) (85, 25) (85, 25)\n"
          ]
        }
      ]
    }
  ]
}